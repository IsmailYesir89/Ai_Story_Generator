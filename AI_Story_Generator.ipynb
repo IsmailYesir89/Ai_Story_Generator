{
  "cells": [
    {
      "cell_type": "markdown",
      "metadata": {
        "id": "view-in-github",
        "colab_type": "text"
      },
      "source": [
        "<a href=\"https://colab.research.google.com/github/IsmailYesir89/Ai_Story_Generator/blob/main/AI_Story_Generator.ipynb\" target=\"_parent\"><img src=\"https://colab.research.google.com/assets/colab-badge.svg\" alt=\"Open In Colab\"/></a>"
      ]
    },
    {
      "cell_type": "code",
      "execution_count": null,
      "metadata": {
        "colab": {
          "background_save": true
        },
        "id": "AeoZCpnLvVG7"
      },
      "outputs": [],
      "source": [
        "# Install necessary libraries\n",
        "!pip install transformers\n",
        "!pip install torch\n"
      ]
    },
    {
      "cell_type": "code",
      "execution_count": null,
      "metadata": {
        "colab": {
          "background_save": true
        },
        "id": "I58BjtASvdnd"
      },
      "outputs": [],
      "source": [
        "from transformers import pipeline, set_seed\n",
        "import torch\n"
      ]
    },
    {
      "cell_type": "code",
      "execution_count": null,
      "metadata": {
        "colab": {
          "background_save": true
        },
        "id": "4NvNMISzvghj"
      },
      "outputs": [],
      "source": [
        "generator = pipeline('text-generation', model='gpt2')\n",
        "set_seed(42)  # For reproducibility"
      ]
    },
    {
      "cell_type": "code",
      "execution_count": null,
      "metadata": {
        "colab": {
          "background_save": true
        },
        "id": "uvuN9B3ivg50"
      },
      "outputs": [],
      "source": [
        "def generate_story(prompt, max_length=200, num_return_sequences=1):\n",
        "    outputs = generator(\n",
        "        prompt,\n",
        "        max_length=max_length,\n",
        "        num_return_sequences=num_return_sequences,\n",
        "        temperature=0.7,\n",
        "        top_k=50,\n",
        "        top_p=0.95,\n",
        "        do_sample=True\n",
        "    )\n",
        "    for i, output in enumerate(outputs):\n",
        "        print(f\"--- Story {i+1} ---\\n\")\n",
        "        print(output['generated_text'])\n",
        "        print(\"\\n\\n\")"
      ]
    },
    {
      "cell_type": "code",
      "execution_count": null,
      "metadata": {
        "id": "7uyABTemv2sr"
      },
      "outputs": [],
      "source": [
        "prompt = input(\"Enter the beginning of your story: \")\n",
        "generate_story(prompt, max_length=300, num_return_sequences=2)"
      ]
    }
  ],
  "metadata": {
    "colab": {
      "provenance": [],
      "gpuType": "T4",
      "authorship_tag": "ABX9TyOt5lHdbLEtsKcR8mwYPOki",
      "include_colab_link": true
    },
    "kernelspec": {
      "display_name": "Python 3",
      "name": "python3"
    },
    "language_info": {
      "name": "python"
    },
    "accelerator": "GPU"
  },
  "nbformat": 4,
  "nbformat_minor": 0
}